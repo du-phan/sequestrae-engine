{
 "cells": [
  {
   "cell_type": "code",
   "execution_count": 8,
   "id": "fc70276c-bd2c-4acd-a34b-a4d23bc64548",
   "metadata": {},
   "outputs": [],
   "source": [
    "from sequestrae_engine.core.input_validation import validate_input\n",
    "from sequestrae_engine.core.exceptions import SequestraeValidationError\n",
    "\n",
    "test_input = {\n",
    "    \"user_inputs\": {\n",
    "           \"feedstock\": {\n",
    "            \"feedstock_type\": \"forestry_residues\",\n",
    "            \"moisture_content\": 40,\n",
    "            \"sustainability_compliance\": {\n",
    "                \"certification\": \"FSC\"\n",
    "            },\n",
    "            \"origin\": \"forest\",\n",
    "            \"geography\": \"US\"\n",
    "        },\n",
    "        \"production_process\": {\n",
    "            \"technology_type\": \"pyrolysis\",\n",
    "            \"production_temperature\": 600,\n",
    "            \"energy_source\": \"renewable\",\n",
    "            \"process_emissions_control\": True\n",
    "        },\n",
    "        \"biochar_properties\": {\n",
    "            \"h_c_ratio\": 0.5,\n",
    "            \"organic_carbon_content\": 85,\n",
    "            \"ash_content\": 8\n",
    "        },\n",
    "        \"biochar_application\": {\n",
    "            \"application_type\": \"soil\",\n",
    "            \"co_benefits\": {\n",
    "                \"soil_improvement\": True,\n",
    "                \"biodiversity\": False\n",
    "            }\n",
    "        },\n",
    "        \"lifecycle_emissions\": {\n",
    "            \"baseline_emission_evidence\": None,\n",
    "            \"process_emissions\": {\n",
    "                \"pre_treatment\": 1.2,\n",
    "                \"fugitive_emissions\": 0.4\n",
    "            },\n",
    "            \"transportation_emissions\": 2.0,\n",
    "            \"transport_mode\": \"road\"\n",
    "        }\n",
    "    },\n",
    "    \"methodologies\": [\n",
    "        {\n",
    "            \"name\": \"puro_earth\"\n",
    "        },\n",
    "         {\n",
    "            \"name\": \"rivera\",\n",
    "        }\n",
    "    ]\n",
    "}"
   ]
  },
  {
   "cell_type": "code",
   "execution_count": 9,
   "id": "eacb2786-8bfc-4bc8-9dba-b991895f2324",
   "metadata": {},
   "outputs": [
    {
     "name": "stderr",
     "output_type": "stream",
     "text": [
      "2024-12-31 12:25:53,120 - sequestrae_engine.core.utilities - INFO - Successfully read JSON file: /Users/duphan/Projects/sequestrae-engine/sequestrae_engine/core/../data/puro_earth/puro_earth_methodology_input_v3.json\n",
      "2024-12-31 12:25:53,121 - sequestrae_engine.core.utilities - INFO - Successfully read JSON file: /Users/duphan/Projects/sequestrae-engine/sequestrae_engine/core/../data/puro_earth/puro_earth_methodology_input_v3.json\n"
     ]
    },
    {
     "name": "stdout",
     "output_type": "stream",
     "text": [
      "Validated Methodologies:\n",
      "  - Methodology: puro_earth, Version: v3\n",
      "[{'context': 'rivera', 'message': 'No version specified or available for rivera.'}]\n"
     ]
    }
   ],
   "source": [
    "\n",
    "    # Call the validate_input function with the test data\n",
    "    validated_methods, error_log, ignored_fields = validate_input(test_input)\n",
    "\n",
    "    # Print validated methods\n",
    "    print(\"Validated Methodologies:\")\n",
    "    for method in validated_methods:\n",
    "        print(f\"  - Methodology: {method[0]}, Version: {method[1]}\")\n",
    "\n",
    "    # Print error log\n",
    "    if error_log:\n",
    "        print(error_log)\n",
    "\n"
   ]
  },
  {
   "cell_type": "code",
   "execution_count": 10,
   "id": "ad0fc126-8cf4-42c8-92b2-f74ee4d0e704",
   "metadata": {},
   "outputs": [
    {
     "data": {
      "text/plain": [
       "[{'context': 'rivera',\n",
       "  'message': 'No version specified or available for rivera.'}]"
      ]
     },
     "execution_count": 10,
     "metadata": {},
     "output_type": "execute_result"
    }
   ],
   "source": [
    "error_log"
   ]
  },
  {
   "cell_type": "code",
   "execution_count": null,
   "id": "f9f9d135-190c-4313-b7d8-20f4be83369f",
   "metadata": {},
   "outputs": [],
   "source": []
  },
  {
   "cell_type": "code",
   "execution_count": null,
   "id": "5fd4399e-7bf3-4892-afbc-9f0106397bb4",
   "metadata": {},
   "outputs": [],
   "source": []
  }
 ],
 "metadata": {
  "kernelspec": {
   "display_name": "Python 3 (ipykernel)",
   "language": "python",
   "name": "python3"
  },
  "language_info": {
   "codemirror_mode": {
    "name": "ipython",
    "version": 3
   },
   "file_extension": ".py",
   "mimetype": "text/x-python",
   "name": "python",
   "nbconvert_exporter": "python",
   "pygments_lexer": "ipython3",
   "version": "3.12.8"
  }
 },
 "nbformat": 4,
 "nbformat_minor": 5
}
